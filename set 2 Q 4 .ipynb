{
 "cells": [
  {
   "cell_type": "markdown",
   "id": "50fa5097",
   "metadata": {},
   "source": [
    "# Assignment-2-Set2-Q4 (Basic Statistic Level-2)"
   ]
  },
  {
   "cell_type": "code",
   "execution_count": null,
   "id": "53dc2db8",
   "metadata": {},
   "outputs": [],
   "source": [
    "from scipy import stats\n",
    "from scipy.stats import norm\n",
    "\n"
   ]
  },
  {
   "cell_type": "code",
   "execution_count": null,
   "id": "8ce9fe7e",
   "metadata": {},
   "outputs": [],
   "source": [
    "stats.norm.interval(0.99,100,20)\n"
   ]
  },
  {
   "cell_type": "code",
   "execution_count": null,
   "id": "ea84548a",
   "metadata": {},
   "outputs": [],
   "source": []
  }
 ],
 "metadata": {
  "kernelspec": {
   "display_name": "Python 3 (ipykernel)",
   "language": "python",
   "name": "python3"
  },
  "language_info": {
   "codemirror_mode": {
    "name": "ipython",
    "version": 3
   },
   "file_extension": ".py",
   "mimetype": "text/x-python",
   "name": "python",
   "nbconvert_exporter": "python",
   "pygments_lexer": "ipython3",
   "version": "3.9.12"
  }
 },
 "nbformat": 4,
 "nbformat_minor": 5
}
