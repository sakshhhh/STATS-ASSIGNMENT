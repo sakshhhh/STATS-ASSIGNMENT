{
 "cells": [
  {
   "cell_type": "code",
   "execution_count": 48,
   "id": "9855e4c7",
   "metadata": {},
   "outputs": [],
   "source": [
    "from scipy.stats import norm"
   ]
  },
  {
   "cell_type": "code",
   "execution_count": 49,
   "id": "4a2ddb0f",
   "metadata": {},
   "outputs": [
    {
     "ename": "AttributeError",
     "evalue": "module 'scipy.stats.stats' has no attribute 'norm'",
     "output_type": "error",
     "traceback": [
      "\u001b[1;31m---------------------------------------------------------------------------\u001b[0m",
      "\u001b[1;31mAttributeError\u001b[0m                            Traceback (most recent call last)",
      "Input \u001b[1;32mIn [49]\u001b[0m, in \u001b[0;36m<cell line: 2>\u001b[1;34m()\u001b[0m\n\u001b[0;32m      1\u001b[0m \u001b[38;5;66;03m#Z score of 90% confidence innterval \u001b[39;00m\n\u001b[1;32m----> 2\u001b[0m \u001b[43mstats\u001b[49m\u001b[38;5;241;43m.\u001b[39;49m\u001b[43mnorm\u001b[49m\u001b[38;5;241m.\u001b[39mppf(\u001b[38;5;241m0.95\u001b[39m)\n",
      "\u001b[1;31mAttributeError\u001b[0m: module 'scipy.stats.stats' has no attribute 'norm'"
     ]
    }
   ],
   "source": [
    "#Z score of 90% confidence innterval \n",
    "stats.norm.ppf(0.95)# Al(area under the curve to the left)=1+0.90/2= 0.95"
   ]
  },
  {
   "cell_type": "code",
   "execution_count": 50,
   "id": "6d47b438",
   "metadata": {},
   "outputs": [
    {
     "ename": "AttributeError",
     "evalue": "module 'scipy.stats.stats' has no attribute 'norm'",
     "output_type": "error",
     "traceback": [
      "\u001b[1;31m---------------------------------------------------------------------------\u001b[0m",
      "\u001b[1;31mAttributeError\u001b[0m                            Traceback (most recent call last)",
      "Input \u001b[1;32mIn [50]\u001b[0m, in \u001b[0;36m<cell line: 2>\u001b[1;34m()\u001b[0m\n\u001b[0;32m      1\u001b[0m \u001b[38;5;66;03m#Z score of 94% confidence interval\u001b[39;00m\n\u001b[1;32m----> 2\u001b[0m \u001b[43mstats\u001b[49m\u001b[38;5;241;43m.\u001b[39;49m\u001b[43mnorm\u001b[49m\u001b[38;5;241m.\u001b[39mppf(\u001b[38;5;241m0.97\u001b[39m)\n",
      "\u001b[1;31mAttributeError\u001b[0m: module 'scipy.stats.stats' has no attribute 'norm'"
     ]
    }
   ],
   "source": [
    "#Z score of 94% confidence interval\n",
    "stats.norm.ppf(0.97)# Al(area under the curve to the left)=1+0.94/2= 0.97"
   ]
  },
  {
   "cell_type": "code",
   "execution_count": 51,
   "id": "1729749b",
   "metadata": {},
   "outputs": [
    {
     "ename": "AttributeError",
     "evalue": "module 'scipy.stats.stats' has no attribute 'norm'",
     "output_type": "error",
     "traceback": [
      "\u001b[1;31m---------------------------------------------------------------------------\u001b[0m",
      "\u001b[1;31mAttributeError\u001b[0m                            Traceback (most recent call last)",
      "Input \u001b[1;32mIn [51]\u001b[0m, in \u001b[0;36m<cell line: 2>\u001b[1;34m()\u001b[0m\n\u001b[0;32m      1\u001b[0m \u001b[38;5;66;03m#Z score of 60% confidence interval\u001b[39;00m\n\u001b[1;32m----> 2\u001b[0m \u001b[43mstats\u001b[49m\u001b[38;5;241;43m.\u001b[39;49m\u001b[43mnorm\u001b[49m\u001b[38;5;241m.\u001b[39mppf(\u001b[38;5;241m0.8\u001b[39m)\n",
      "\u001b[1;31mAttributeError\u001b[0m: module 'scipy.stats.stats' has no attribute 'norm'"
     ]
    }
   ],
   "source": [
    "#Z score of 60% confidence interval\n",
    "stats.norm.ppf(0.8)# Al(area under the curve to the left)=1+0.60/2= 0.8"
   ]
  },
  {
   "cell_type": "code",
   "execution_count": null,
   "id": "5d952c2f",
   "metadata": {},
   "outputs": [],
   "source": []
  },
  {
   "cell_type": "code",
   "execution_count": null,
   "id": "8844914f",
   "metadata": {},
   "outputs": [],
   "source": []
  },
  {
   "cell_type": "code",
   "execution_count": null,
   "id": "dcd192df",
   "metadata": {},
   "outputs": [],
   "source": []
  },
  {
   "cell_type": "code",
   "execution_count": null,
   "id": "493f08a5",
   "metadata": {},
   "outputs": [],
   "source": []
  }
 ],
 "metadata": {
  "kernelspec": {
   "display_name": "Python 3 (ipykernel)",
   "language": "python",
   "name": "python3"
  },
  "language_info": {
   "codemirror_mode": {
    "name": "ipython",
    "version": 3
   },
   "file_extension": ".py",
   "mimetype": "text/x-python",
   "name": "python",
   "nbconvert_exporter": "python",
   "pygments_lexer": "ipython3",
   "version": "3.9.12"
  }
 },
 "nbformat": 4,
 "nbformat_minor": 5
}
